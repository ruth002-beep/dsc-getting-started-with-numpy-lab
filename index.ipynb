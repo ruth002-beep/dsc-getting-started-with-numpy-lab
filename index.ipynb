{
 "cells": [
  {
   "cell_type": "markdown",
   "metadata": {},
   "source": [
    "# Getting Started with NumPy - Lab"
   ]
  },
  {
   "cell_type": "markdown",
   "metadata": {},
   "source": [
    "## Introduction"
   ]
  },
  {
   "cell_type": "markdown",
   "metadata": {},
   "source": [
    "Now that we have introduced NumPy, let's put it to practice. In this lab, you are going to be creating arrays, performing operations on them, and returning new arrays all using the NumPy library. Let's get started!"
   ]
  },
  {
   "cell_type": "markdown",
   "metadata": {},
   "source": [
    "## Objectives\n",
    "\n",
    "You will be able to: \n",
    "\n",
    "- Instantiate a numpy array with specified values \n",
    "- Use broadcasting to perform a math operation on an entire numpy array \n"
   ]
  },
  {
   "cell_type": "markdown",
   "metadata": {},
   "source": [
    "## Import `NumPy` under the standard alias"
   ]
  },
  {
   "cell_type": "code",
   "execution_count": 3,
   "metadata": {},
   "outputs": [],
   "source": [
    "# Import numpy using the standard alias\n",
    "import numpy as np"
   ]
  },
  {
   "cell_type": "markdown",
   "metadata": {},
   "source": [
    "## Generate some mock data"
   ]
  },
  {
   "cell_type": "markdown",
   "metadata": {},
   "source": [
    "Create a NumPy array for each of the following:\n",
    "    1. Using a range\n",
    "    2. Using a Python list\n",
    "    \n",
    "Below, create a list in Python that has 5 elements (i.e. [0,1,2,3,4]) and assign it to the variable `py_list`. \n",
    "\n",
    "Next, do the same, but instead of a list, create a range with 5 elements and assign it to the variable, `py_range`.\n",
    "\n",
    "Finally, use the list and range to create NumPy arrays and assign the array from list to the variable `array_from_list`, and the array from the range to the variable `array_from_range`."
   ]
  },
  {
   "cell_type": "code",
   "execution_count": 17,
   "metadata": {},
   "outputs": [
    {
     "data": {
      "text/plain": [
       "[0, 1, 2, 3, 4]"
      ]
     },
     "execution_count": 17,
     "metadata": {},
     "output_type": "execute_result"
    }
   ],
   "source": [
    "list(range(0, 5))"
   ]
  },
  {
   "cell_type": "code",
   "execution_count": 19,
   "metadata": {},
   "outputs": [
    {
     "data": {
      "text/plain": [
       "[0, 1, 2, 3, 4]"
      ]
     },
     "execution_count": 19,
     "metadata": {},
     "output_type": "execute_result"
    }
   ],
   "source": [
    "py_list = [0, 1, 2, 3, 4]\n",
    "py_list"
   ]
  },
  {
   "cell_type": "code",
   "execution_count": 23,
   "metadata": {},
   "outputs": [
    {
     "data": {
      "text/plain": [
       "range(0, 5)"
      ]
     },
     "execution_count": 23,
     "metadata": {},
     "output_type": "execute_result"
    }
   ],
   "source": [
    "py_range = range(5)\n",
    "py_range"
   ]
  },
  {
   "cell_type": "code",
   "execution_count": 25,
   "metadata": {},
   "outputs": [
    {
     "name": "stdout",
     "output_type": "stream",
     "text": [
      "[0, 1, 2, 3, 4]\n"
     ]
    }
   ],
   "source": [
    "print(list(py_range))"
   ]
  },
  {
   "cell_type": "code",
   "execution_count": null,
   "metadata": {},
   "outputs": [],
   "source": [
    "py_list = [0, 1, 2, 3, 4]\n",
    "py_range = [0, 1, 2, 3, 4]\n"
   ]
  },
  {
   "cell_type": "code",
   "execution_count": 27,
   "metadata": {},
   "outputs": [
    {
     "data": {
      "text/plain": [
       "array([0, 1, 2, 3, 4])"
      ]
     },
     "execution_count": 27,
     "metadata": {},
     "output_type": "execute_result"
    }
   ],
   "source": [
    "array_from_list = np.array(py_list)\n",
    "array_from_list"
   ]
  },
  {
   "cell_type": "code",
   "execution_count": 29,
   "metadata": {},
   "outputs": [
    {
     "data": {
      "text/plain": [
       "array([0, 1, 2, 3, 4])"
      ]
     },
     "execution_count": 29,
     "metadata": {},
     "output_type": "execute_result"
    }
   ],
   "source": [
    "array_from_range = np.array(py_range)\n",
    "array_from_range"
   ]
  },
  {
   "cell_type": "code",
   "execution_count": null,
   "metadata": {},
   "outputs": [],
   "source": [
    "# Your code here\n",
    "py_list = [0, 1, 2, 3, 4]\n",
    "py_range = [0, 1, 2, 3, 4]\n",
    "array_from_list = array([0, 1, 2, 3, 4])\n",
    "array_from_range = array([0, 1, 2, 3, 4])"
   ]
  },
  {
   "cell_type": "markdown",
   "metadata": {},
   "source": [
    "Next, we have a list of heights and weights and we'd like to use them to create a collection of BMIs. However, they are both in inches and pounds (imperial system), respectively. \n",
    "\n",
    "Let's use what we know to create NumPy arrays with the metric equivalent values (height in meters & weight in kg).\n",
    "\n",
    "> **Remember:** *NumPy can make these calculations a lot easier and with less code than a list!*"
   ]
  },
  {
   "cell_type": "markdown",
   "metadata": {},
   "source": [
    "> 1.0 inch = 0.0254 meters\n",
    "\n",
    "> 2.2046 lbs = 1 kilogram"
   ]
  },
  {
   "cell_type": "code",
   "execution_count": 37,
   "metadata": {},
   "outputs": [
    {
     "data": {
      "text/plain": [
       "[65, 68, 73, 75, 78]"
      ]
     },
     "execution_count": 37,
     "metadata": {},
     "output_type": "execute_result"
    }
   ],
   "source": [
    "# convert height from inches to meters\n",
    "# 1.0 inch = 0.0254 meters\n",
    "# convert list_height_inches into np.array height \n",
    "list_height_inches = [65, 68, 73, 75, 78]\n",
    "list_height_inches "
   ]
  },
  {
   "cell_type": "code",
   "execution_count": 43,
   "metadata": {},
   "outputs": [
    {
     "data": {
      "text/plain": [
       "array([65, 68, 73, 75, 78])"
      ]
     },
     "execution_count": 43,
     "metadata": {},
     "output_type": "execute_result"
    }
   ],
   "source": [
    "array_height_inches = np.array(list_height_inches)\n",
    "array_height_inches "
   ]
  },
  {
   "cell_type": "code",
   "execution_count": 55,
   "metadata": {},
   "outputs": [
    {
     "data": {
      "text/plain": [
       "[65, 68, 73, 75, 78]"
      ]
     },
     "execution_count": 55,
     "metadata": {},
     "output_type": "execute_result"
    }
   ],
   "source": [
    "# convert array_height_inches into metres\n",
    "# lets assign array_height_inches to a variable E\n",
    "E = ([65, 68, 73, 75, 78])\n",
    "E"
   ]
  },
  {
   "cell_type": "code",
   "execution_count": 57,
   "metadata": {},
   "outputs": [
    {
     "data": {
      "text/plain": [
       "array([1.651 , 1.7272, 1.8542, 1.905 , 1.9812])"
      ]
     },
     "execution_count": 57,
     "metadata": {},
     "output_type": "execute_result"
    }
   ],
   "source": [
    "# multiply E(inches) with 0.0254 mtrs to convert inches to metres\n",
    "np.multiply(E, 0.0254)"
   ]
  },
  {
   "cell_type": "code",
   "execution_count": 65,
   "metadata": {},
   "outputs": [],
   "source": [
    "# Use the conversion rate for turning weight in pounds to kilograms\n",
    "list_weight_pounds = [150, 140, 220, 205, 265]\n",
    "list_weight_pounds\n",
    "array_weight_pounds = np.array(list_weight_pounds)  # converting pounds imto array.pounds\n",
    "array_weight_pounds\n",
    "\n",
    "np.array(list_weight_pounds) # should be converted to kgs whereby 2.2046 lbs = 1 kilogram"
   ]
  },
  {
   "cell_type": "code",
   "execution_count": 67,
   "metadata": {},
   "outputs": [
    {
     "data": {
      "text/plain": [
       "[150, 140, 220, 205, 265]"
      ]
     },
     "execution_count": 67,
     "metadata": {},
     "output_type": "execute_result"
    }
   ],
   "source": [
    "# assign the list to a variable\n",
    "list_weight_pounds = [150, 140, 220, 205, 265]\n",
    "list_weight_pounds"
   ]
  },
  {
   "cell_type": "code",
   "execution_count": 69,
   "metadata": {},
   "outputs": [
    {
     "data": {
      "text/plain": [
       "array([150, 140, 220, 205, 265])"
      ]
     },
     "execution_count": 69,
     "metadata": {},
     "output_type": "execute_result"
    }
   ],
   "source": [
    "array_weight_pounds = np.array(list_weight_pounds)  # converting pounds imto array.pounds\n",
    "array_weight_pounds"
   ]
  },
  {
   "cell_type": "code",
   "execution_count": 71,
   "metadata": {},
   "outputs": [
    {
     "data": {
      "text/plain": [
       "[150, 140, 220, 205, 265]"
      ]
     },
     "execution_count": 71,
     "metadata": {},
     "output_type": "execute_result"
    }
   ],
   "source": [
    "# lets assign the array pounds to avariable\n",
    "d = [150, 140, 220, 205, 265]\n",
    "d"
   ]
  },
  {
   "cell_type": "code",
   "execution_count": 75,
   "metadata": {},
   "outputs": [
    {
     "data": {
      "text/plain": [
       "array([ 68.03955366,  63.50358342,  99.79134537,  92.98739   ,\n",
       "       120.20321147])"
      ]
     },
     "execution_count": 75,
     "metadata": {},
     "output_type": "execute_result"
    }
   ],
   "source": [
    " # convert pounds into kg\n",
    "#2.2046 lbs = 1 kilogram\n",
    "np.divide(d, 2.2046)"
   ]
  },
  {
   "cell_type": "markdown",
   "metadata": {},
   "source": [
    "The metric formula for calculating BMI is as follows:\n",
    "\n",
    "> BMI = weight (kg) ÷ height^2 (m^2)\n",
    "\n",
    "So, to get BMI we divide weight by the squared value of height. For example, if I weighed 130kg and was 1.9 meters tall, the calculation would look like:\n",
    "\n",
    "> BMI = 130 / (1.9*1.9)\n",
    "\n",
    "Use the BMI calculation to create a NumPy array of BMIs"
   ]
  },
  {
   "cell_type": "code",
   "execution_count": 77,
   "metadata": {},
   "outputs": [
    {
     "data": {
      "text/plain": [
       "[68.03955366, 63.50358342, 99.79134537, 92.98739, 120.20321147]"
      ]
     },
     "execution_count": 77,
     "metadata": {},
     "output_type": "execute_result"
    }
   ],
   "source": [
    "# lets asign kgs a variable\n",
    "f = [ 68.03955366,  63.50358342,  99.79134537,  92.98739   ,\n",
    "       120.20321147]\n",
    "f\n"
   ]
  },
  {
   "cell_type": "code",
   "execution_count": null,
   "metadata": {},
   "outputs": [],
   "source": []
  },
  {
   "cell_type": "markdown",
   "metadata": {},
   "source": [
    "## Create a vector of ones the same size as your BMI vector using `np.ones()`"
   ]
  },
  {
   "cell_type": "code",
   "execution_count": null,
   "metadata": {},
   "outputs": [],
   "source": [
    "# Your code here\n",
    "identity = None\n",
    "identity"
   ]
  },
  {
   "cell_type": "markdown",
   "metadata": {},
   "source": [
    "## Multiply the BMI_array by your vector of ones\n",
    "The resulting product should have the same values as your original BMI numpy array."
   ]
  },
  {
   "cell_type": "code",
   "execution_count": null,
   "metadata": {},
   "outputs": [],
   "source": [
    "# Your code here\n"
   ]
  },
  {
   "cell_type": "markdown",
   "metadata": {},
   "source": [
    "## Level Up: Using NumPy to Parse a File\n",
    "The Pandas library that we've been using is built on top of NumPy; all columns/series in a Pandas DataFrame are built using NumPy arrays. To get a better idea of a how a built-in method like `pd.read_csv()` works, we'll try and recreate that here!"
   ]
  },
  {
   "cell_type": "code",
   "execution_count": null,
   "metadata": {},
   "outputs": [],
   "source": [
    "# Open a text file (csv files are just plaintext separated by commas)\n",
    "f = open('bp.txt')\n",
    "n_rows = len(f.readlines())\n",
    "# Print number of lines in the file\n",
    "print('The file has {} lines.'.format(n_rows)) \n",
    "# After using readlines, we must reopen the file\n",
    "f = open('bp.txt') \n",
    "# The file has values separated by tabs; we read the first line and check it's length \n",
    "n_cols = (len(f.readline().split('\\t'))) \n",
    "\n",
    "f = open('bp.txt')\n",
    "\n",
    "# Your code here\n",
    "# Pseudocode outline below\n",
    "#1) Create a matrix of zeros that is the same size of the file\n",
    "#2) Iterate through the file: \"for line in f:\" Hint: using enumerate will also be required\n",
    "    #3) Update each row of the matrix with the new stream of data\n",
    "    #Hint: skip the first row (it's just column names, not the data.)\n",
    "#4) Preview your results; you should now have a NumPy matrix with the data from the file\n"
   ]
  },
  {
   "cell_type": "markdown",
   "metadata": {},
   "source": [
    "## Summary"
   ]
  },
  {
   "cell_type": "markdown",
   "metadata": {},
   "source": [
    "In this lab, we practiced creating NumPy arrays from both lists and ranges. We then practiced performing math operations like converting imperial measurements to metric measurements on each element of a NumPy array to create new arrays with new values. Finally, we used both of our new NumPy arrays to operate on each other and create new arrays containing the BMIs from our arrays containing heights and weights."
   ]
  }
 ],
 "metadata": {
  "kernelspec": {
   "display_name": "Python 3 (ipykernel)",
   "language": "python",
   "name": "python3"
  },
  "language_info": {
   "codemirror_mode": {
    "name": "ipython",
    "version": 3
   },
   "file_extension": ".py",
   "mimetype": "text/x-python",
   "name": "python",
   "nbconvert_exporter": "python",
   "pygments_lexer": "ipython3",
   "version": "3.12.7"
  }
 },
 "nbformat": 4,
 "nbformat_minor": 4
}
